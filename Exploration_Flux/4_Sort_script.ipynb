{
 "cells": [
  {
   "cell_type": "markdown",
   "metadata": {},
   "source": [
    "*Instructors:*\n",
    "*This Notebook uses the Sort.pl script of the Cosmic Ray e-Lab analyses to provide material for the following learning goals:*\n",
    "\n",
    "* *Understanding energy scales in physics*\n",
    "* *Understanding scientific notation for large numbers*\n",
    "* *Understanding ultra-high-energy cosmic rays as a real-world research problem*\n",
    "* *Identifying interesting data within a large dataset*\n",
    "* *Formulating questions and transforming data to answer them*"
   ]
  },
  {
   "cell_type": "markdown",
   "metadata": {},
   "source": [
    "# Sort"
   ]
  },
  {
   "cell_type": "markdown",
   "metadata": {},
   "source": [
    "## Motivation: Identifying high-energy cosmic rays"
   ]
  },
  {
   "cell_type": "markdown",
   "metadata": {},
   "source": [
    "**Understanding cosmic ray energy scales**"
   ]
  },
  {
   "cell_type": "markdown",
   "metadata": {},
   "source": [
    "Like all forms of radiation, Cosmic rays can be classified by the amount of energy they carry.  A typical muon-producing primary cosmic ray particle will have energy somewhere in the 1-100 GeV range.  \"GeV\" stands for \"Giga electron-Volt\"; the electron-Volt (eV) is the standard unit of energy in particle physics, and \"Giga\" is a prefix meaning \"one billion of them\", or $10^9$.  For comparison, \n",
    "\n",
    "* A single electron accelerated through a voltage of 1 Volt gains an energy equal to 1 eV (hence the name),\n",
    "\n",
    "* The energy of neutron emitted during the fission of a uranium nucleus is typically ~1 MeV, which is ~0.001 GeV, and\n",
    "\n",
    "* The energy of a proton in one beam of the LHC, the highest-energy particle accelerator in history, is 6.5 TeV, which is 6,500 Gev.\n",
    "\n",
    "(\"M\" is a shorthand prefix for \"Mega\", meaning \"one million\" or $10^6$.  \"T\" is a shorthand prefix for \"Tera\", meaning \"one trillion\", or $10^{12}$).\n",
    "\n",
    "Your everyday primary cosmic ray particle isn't quite as energetic as what's collided at the LHC, but it's over 1,000 times more energetic than individual particles emitted during nuclear fission events, such as in a nuclear reactor or the detonation of a nuclear weapon."
   ]
  },
  {
   "cell_type": "markdown",
   "metadata": {},
   "source": [
    "Note that we say a \"typical\" cosmic ray particle has an energy of 1-100 GeV, but that isn't meant to be a limit.  Cosmic rays with energies higher than this range are measured frequently, and cosmic rays with energies of thousands or tens of thousands of GeV are usually considered unremarkable.  The further you move from the 1-100 GeV range, though, the rarer cosmic rays of that energy become."
   ]
  },
  {
   "cell_type": "markdown",
   "metadata": {},
   "source": [
    "**Ultra-high-energy cosmic rays**"
   ]
  },
  {
   "cell_type": "markdown",
   "metadata": {},
   "source": [
    "Every once in a while, a cosmic ray is detected with an energy far greater than the typical 1-100 GeV.  Called \"ultra-high-energy cosmic rays\", these particles have energies of 1 *billion*, or $10^9$, GeV or greater."
   ]
  },
  {
   "cell_type": "markdown",
   "metadata": {},
   "source": [
    "** Exercise 1** How many TeV does $10^9$ GeV equal?  How does this compare to the energy of a proton in the LHC?"
   ]
  },
  {
   "cell_type": "code",
   "execution_count": 1,
   "metadata": {
    "code_folding": [
     0
    ],
    "scrolled": true
   },
   "outputs": [
    {
     "data": {
      "application/vnd.jupyter.widget-view+json": {
       "model_id": "2f3782655e3740d1bbb02d9b95ef10c8",
       "version_major": 2,
       "version_minor": 0
      },
      "text/html": [
       "<p>Failed to display Jupyter Widget of type <code>Textarea</code>.</p>\n",
       "<p>\n",
       "  If you're reading this message in the Jupyter Notebook or JupyterLab Notebook, it may mean\n",
       "  that the widgets JavaScript is still loading. If this message persists, it\n",
       "  likely means that the widgets JavaScript library is either not installed or\n",
       "  not enabled. See the <a href=\"https://ipywidgets.readthedocs.io/en/stable/user_install.html\">Jupyter\n",
       "  Widgets Documentation</a> for setup instructions.\n",
       "</p>\n",
       "<p>\n",
       "  If you're reading this message in another frontend (for example, a static\n",
       "  rendering on GitHub or <a href=\"https://nbviewer.jupyter.org/\">NBViewer</a>),\n",
       "  it may mean that your frontend doesn't currently support widgets.\n",
       "</p>\n"
      ],
      "text/plain": [
       "Textarea(value='', description='Answer:', layout=Layout(height='50px', width='100%'))"
      ]
     },
     "metadata": {},
     "output_type": "display_data"
    }
   ],
   "source": [
    "# Textarea widget\n",
    "import ipywidgets as widgets\n",
    "widgets.Textarea(\n",
    "    value='',\n",
    "    description='Answer:',\n",
    "    disabled=False,\n",
    "    layout=widgets.Layout(width='100%', height='50px')\n",
    ")"
   ]
  },
  {
   "cell_type": "markdown",
   "metadata": {},
   "source": [
    "These rare events are intriguing just for being rare, but what's even more significant about such particles is that *we don't know where they come from!*  We know of no natural process in the universe -- neither supernovas, quasars, nor black hole accretion jets -- that are capable of accelerating particles to this extreme energy."
   ]
  },
  {
   "cell_type": "markdown",
   "metadata": {},
   "source": [
    "Naturally, ultra-high-energy cosmic rays are the subject of scientific interest and research for what they might be able to reveal about unknown physics in the cosmos.  But in order to study them, we need to observe them, and in order to observe them, we need to find them in the data."
   ]
  },
  {
   "cell_type": "markdown",
   "metadata": {},
   "source": [
    "![The Auger Observatory](../Files/Images/AugerTank.jpg) *Fig 1: A photograph taken at the Pierre Auger Observatory in Argentina.  The Auger Observatory was constructed to measure ultra-high-energy cosmic ray events so that we can learn more about this rare and mysterious phenomenon.*"
   ]
  },
  {
   "cell_type": "markdown",
   "metadata": {},
   "source": [
    "**Energy in CRMD data**"
   ]
  },
  {
   "cell_type": "markdown",
   "metadata": {},
   "source": [
    "Most cosmic ray muon detectors (CRMDs), including QuarkNet's, don't measure primary cosmic rays or their energies directly.  Rather, they measure muons created as secondary particles when primary cosmic ray particles strike the Earth's atmosphere."
   ]
  },
  {
   "cell_type": "markdown",
   "metadata": {},
   "source": [
    "QuarkNet CRMDs don't measure the energy of these secondary muons, either, at least not directly.  Recall how the CRMD works, though:\n",
    "\n",
    "First, a cosmic ray muon passes through one of the scintillating detector panels, which causes it to emit light.  Then, this light is gathered by a photomultiplier tube (PMT) that converts it to a voltage.  The detector's data acquisition board (DAQ) notes the times when this voltage first crosses a certain value (called the threshold), and then it notes again when that voltage falls back below the threshold.\n",
    "\n",
    "The duration of time that the voltage pulse exceeds the threshold is called the \"time over threshold\" value, and it's recorded as one of the data columns in the threshold data files that the Cosmic Ray e-Lab analyzes.\n",
    "\n",
    "The more energy a muon has, the more light it generates in the scintillator panel of the detector.  This additional light registers at the PMT for a longer duration, meaning that the voltage pulse it produces lasts for a longer duration. Thus, the \"time over threshold\" value recorded by the DAQ is greater for a higher-energy muon than for a lower-energy muon.\n",
    "\n",
    "In other words, the \"time over threshold\" value is *correlated* to the energy of the muon, and this correlatoin is a *positive correlation*: as one increases, so does the other.  This means that, while we can't assign an energy value in GeV to a cosmic ray muon using QuarkNet's CRMDs, we can reasonably compare the energies of different muon events by looking at the \"time over threshold\" value in the data.  In effect, the \"time over threshold\" data serves as a placeholder variable for energy."
   ]
  },
  {
   "cell_type": "markdown",
   "metadata": {},
   "source": [
    "## Analyzing \"time over threshold\" in CRMD data"
   ]
  },
  {
   "cell_type": "markdown",
   "metadata": {},
   "source": [
    "Below, we use the UNIX utility `head` to examine a bit of data from the threshold file of a CRMD:"
   ]
  },
  {
   "cell_type": "code",
   "execution_count": 12,
   "metadata": {},
   "outputs": [
    {
     "name": "stdout",
     "output_type": "stream",
     "text": [
      "#$md5\r\n",
      "#md5_hex(0)\r\n",
      "#ID.CHANNEL, Julian Day, RISING EDGE(sec), FALLING EDGE(sec), TIME OVER THRESHOLD (nanosec), RISING EDGE(INT), FALLING EDGE(INT)\r\n",
      "6148.4\t2457396\t0.5006992493422453\t0.5006992493424479\t17.51\t4326041514317000\t4326041514318750\r\n",
      "6148.3\t2457396\t0.5006992493422887\t0.5006992493424768\t16.25\t4326041514317375\t4326041514319000\r\n",
      "6148.2\t2457396\t0.5007005963399161\t0.5007005963400029\t7.49\t4326053152376876\t4326053152377625\r\n",
      "6148.3\t2457396\t0.5007005963401910\t0.5007005963404514\t22.49\t4326053152379250\t4326053152381500\r\n",
      "6148.4\t2457396\t0.5007005963401765\t0.5007005963404658\t25.00\t4326053152379125\t4326053152381624\r\n"
     ]
    }
   ],
   "source": [
    "!head -8 ../Files/Data/6148.2016.0109.0.thresh"
   ]
  },
  {
   "cell_type": "markdown",
   "metadata": {},
   "source": [
    "The values we're interested in are in the `TIME OVER THRESHOLD (nanosec)` column (the ones with values 17.51, 16.25, 7.49, and so on)."
   ]
  },
  {
   "cell_type": "markdown",
   "metadata": {},
   "source": [
    "**Your assignment:** Running the next cell will display 100 lines of data similar to those above, but from a different threshold file.  When you run the cell, start a timer.  Identify all lines in the data that have a \"time over threshold\" value between **15.24** and **21.80** by copying and pasting them into the cell below it.  Stop the timer when you're satisified that you've found all values."
   ]
  },
  {
   "cell_type": "code",
   "execution_count": null,
   "metadata": {},
   "outputs": [],
   "source": [
    "!head -103 ../Files/Data/6148.2017.0507.0-100.thresh"
   ]
  },
  {
   "cell_type": "code",
   "execution_count": 2,
   "metadata": {
    "code_folding": [
     0
    ]
   },
   "outputs": [
    {
     "data": {
      "application/vnd.jupyter.widget-view+json": {
       "model_id": "c52ec6a0a52c42a3aa5b0629954a4e25",
       "version_major": 2,
       "version_minor": 0
      },
      "text/html": [
       "<p>Failed to display Jupyter Widget of type <code>Textarea</code>.</p>\n",
       "<p>\n",
       "  If you're reading this message in the Jupyter Notebook or JupyterLab Notebook, it may mean\n",
       "  that the widgets JavaScript is still loading. If this message persists, it\n",
       "  likely means that the widgets JavaScript library is either not installed or\n",
       "  not enabled. See the <a href=\"https://ipywidgets.readthedocs.io/en/stable/user_install.html\">Jupyter\n",
       "  Widgets Documentation</a> for setup instructions.\n",
       "</p>\n",
       "<p>\n",
       "  If you're reading this message in another frontend (for example, a static\n",
       "  rendering on GitHub or <a href=\"https://nbviewer.jupyter.org/\">NBViewer</a>),\n",
       "  it may mean that your frontend doesn't currently support widgets.\n",
       "</p>\n"
      ],
      "text/plain": [
       "Textarea(value='', description='Data:', layout=Layout(height='200px', width='100%'), placeholder='Paste matching data lines here')"
      ]
     },
     "metadata": {},
     "output_type": "display_data"
    }
   ],
   "source": [
    "# Textarea widget\n",
    "import ipywidgets as widgets\n",
    "widgets.Textarea(\n",
    "    value='',\n",
    "    placeholder='Paste matching data lines here',\n",
    "    description='Data:',\n",
    "    disabled=False,\n",
    "    layout=widgets.Layout(width='100%', height='200px')\n",
    ")"
   ]
  },
  {
   "cell_type": "markdown",
   "metadata": {},
   "source": [
    "How many lines did you find?  How long did it take?"
   ]
  },
  {
   "cell_type": "code",
   "execution_count": 3,
   "metadata": {
    "code_folding": [
     0
    ]
   },
   "outputs": [
    {
     "data": {
      "application/vnd.jupyter.widget-view+json": {
       "model_id": "de81c3b0aba14bbfb87a278bba1736a3",
       "version_major": 2,
       "version_minor": 0
      },
      "text/html": [
       "<p>Failed to display Jupyter Widget of type <code>Text</code>.</p>\n",
       "<p>\n",
       "  If you're reading this message in the Jupyter Notebook or JupyterLab Notebook, it may mean\n",
       "  that the widgets JavaScript is still loading. If this message persists, it\n",
       "  likely means that the widgets JavaScript library is either not installed or\n",
       "  not enabled. See the <a href=\"https://ipywidgets.readthedocs.io/en/stable/user_install.html\">Jupyter\n",
       "  Widgets Documentation</a> for setup instructions.\n",
       "</p>\n",
       "<p>\n",
       "  If you're reading this message in another frontend (for example, a static\n",
       "  rendering on GitHub or <a href=\"https://nbviewer.jupyter.org/\">NBViewer</a>),\n",
       "  it may mean that your frontend doesn't currently support widgets.\n",
       "</p>\n"
      ],
      "text/plain": [
       "Text(value='', description='# lines:', placeholder='Number of data lines')"
      ]
     },
     "metadata": {},
     "output_type": "display_data"
    },
    {
     "data": {
      "application/vnd.jupyter.widget-view+json": {
       "model_id": "c1dc5f5535524e4aaf522a1d352802e7",
       "version_major": 2,
       "version_minor": 0
      },
      "text/html": [
       "<p>Failed to display Jupyter Widget of type <code>Text</code>.</p>\n",
       "<p>\n",
       "  If you're reading this message in the Jupyter Notebook or JupyterLab Notebook, it may mean\n",
       "  that the widgets JavaScript is still loading. If this message persists, it\n",
       "  likely means that the widgets JavaScript library is either not installed or\n",
       "  not enabled. See the <a href=\"https://ipywidgets.readthedocs.io/en/stable/user_install.html\">Jupyter\n",
       "  Widgets Documentation</a> for setup instructions.\n",
       "</p>\n",
       "<p>\n",
       "  If you're reading this message in another frontend (for example, a static\n",
       "  rendering on GitHub or <a href=\"https://nbviewer.jupyter.org/\">NBViewer</a>),\n",
       "  it may mean that your frontend doesn't currently support widgets.\n",
       "</p>\n"
      ],
      "text/plain": [
       "Text(value='', description='Time (s):', placeholder='Time')"
      ]
     },
     "metadata": {},
     "output_type": "display_data"
    }
   ],
   "source": [
    "# Textarea widget\n",
    "import ipywidgets as widgets\n",
    "numberFound = widgets.Text(\n",
    "    value='',\n",
    "    placeholder='Number of data lines',\n",
    "    description='# lines:',\n",
    "    disabled=False\n",
    ")\n",
    "\n",
    "timeToFind = widgets.Text(\n",
    "    value='',\n",
    "    placeholder='Time',\n",
    "    description='Time (s):',\n",
    "    disabled=False\n",
    ")\n",
    "\n",
    "display(numberFound)\n",
    "display(timeToFind)"
   ]
  },
  {
   "cell_type": "markdown",
   "metadata": {},
   "source": []
  },
  {
   "cell_type": "markdown",
   "metadata": {},
   "source": [
    "You'll probably agree that the method you just used to identify certain data in a large set is not the most efficient way of doing things.  If we're looking for particular values, or values in a certain range, it's much easier to do that if the data is *sorted* by the value of interest."
   ]
  },
  {
   "cell_type": "markdown",
   "metadata": {},
   "source": [
    "In their standard form, QuarkNet's CRMD threshold files are sorted by \"rising edge\" times (you can see this easily in the 100-line output of `6148.2017.0507.0-100.thresh` that you just scanned through).  That is, they're organized chronologically by the time that each muon's signal pulse first exceeded the DAQ threshold.  If we care about the \"time over threshold\" values more than time of day the muons arrived, which we do if we're looking for the highest-energy events, then it makes more sense to re-organize the data by that value."
   ]
  },
  {
   "cell_type": "markdown",
   "metadata": {},
   "source": [
    "This is what the `Sort.pl` data transformation does.  We'll apply it to the data you examined above to see how much easier it makes the task of finding just the right data in a set."
   ]
  },
  {
   "cell_type": "markdown",
   "metadata": {},
   "source": [
    "## Using Sort.pl"
   ]
  },
  {
   "cell_type": "markdown",
   "metadata": {},
   "source": [
    "To use the data transformation script `Sort.pl`, we provide it with (in order): an input file, what to name its output file, and two column-sorting parameters:\n",
    "\n",
    "`$ perl Sort.pl <input file> <output file> <primary sort column> <secondary sort column>`\n",
    "\n",
    "where the items in angled brackets `<>` are parameters we have to specify.  In more detail, these are:\n",
    "\n",
    "* `input file`:  The name of the input file to be sorted; we can specify only one for this script\n",
    "* `output file`: What we want to name the output file that the script will write its results to\n",
    "* `primary sort column`: The number of the data column we want to sort\n",
    "* `secondary sort column`: The number of the data column we want to sub-sort"
   ]
  },
  {
   "cell_type": "markdown",
   "metadata": {},
   "source": [
    "### Understanding primary and secondary sorts"
   ]
  },
  {
   "cell_type": "markdown",
   "metadata": {},
   "source": [
    "\"Primary\" and \"secondary\" sort might need a little more explanation, which we can illustrate with some fake threshold data:\n",
    "\n",
    "```\n",
    "#ID.CHANNEL, Julian Day, RISING EDGE(sec), FALLING EDGE(sec), TIME OVER THRESHOLD (nanosec), RISING EDGE(INT), FALLING EDGE(INT)\n",
    "6148.1\t2457880\t0.50751\t0.50802\t34.99\t43325\t43325\n",
    "6148.1\t2457880\t0.50091\t0.50262\t18.75\t43375\t43350\n",
    "6148.4\t2457880\t0.50828\t0.50577\t23.75\t43376\t43350\n",
    "6148.2\t2457880\t0.50059\t0.50978\t42.50\t43475\t43425\n",
    "6148.1\t2457880\t0.50096\t0.50569\t30.00\t43400\t43400\n",
    "6148.1\t2457880\t0.50040\t0.50355\t20.00\t43475\t43475\n",
    "6148.1\t2457880\t0.50789\t0.50960\t18.76\t43450\t43426\n",
    "6148.2\t2457880\t0.50330\t0.50815\t38.75\t43425\t43400\n",
    "6148.1\t2457880\t0.50539\t0.50972\t 3.74\t43426\t43400\n",
    "6148.2\t2457880\t0.50564\t0.50616\t35.01\t43500\t43500\n",
    "6148.4\t2457880\t0.50616\t0.50497\t16.25\t43500\t43526\n",
    "6148.2\t2457880\t0.50050\t0.50508\t21.24\t43575\t43500\n",
    "6148.4\t2457880\t0.50246\t0.50139\t25.00\t43500\t43500\n",
    "```\n",
    "\n",
    "This data is unsorted, in the sense that none of the columns have their data in order if you scan them from top-to-bottom.  To sort the data, we'll rearrange the lines so that one column *does* have its data in order from lowest-to-highest.  This will be the **primary sort** column.  Let's say that we want to sort the data by detector channel, which is given by the `ID.CHANNEL` values in the first column, so that we can easily see all the data taken by each detector panel.  Once sorted on that column, the data looks like this:\n",
    "\n",
    "```\n",
    "#ID.CHANNEL, Julian Day, RISING EDGE(sec), FALLING EDGE(sec), TIME OVER THRESHOLD (nanosec), RISING EDGE(INT), FALLING EDGE(INT)\n",
    "6148.1\t2457880\t0.50751\t0.50802\t34.99\t43325\t43325\n",
    "6148.1\t2457880\t0.50091\t0.50262\t18.75\t43375\t43350\n",
    "6148.1\t2457880\t0.50096\t0.50569\t30.00\t43400\t43400\n",
    "6148.1\t2457880\t0.50040\t0.50355\t20.00\t43475\t43475\n",
    "6148.1\t2457880\t0.50789\t0.50960\t18.76\t43450\t43426\n",
    "6148.1\t2457880\t0.50539\t0.50972\t 3.74\t43426\t43400\n",
    "6148.2\t2457880\t0.50059\t0.50978\t42.50\t43475\t43425\n",
    "6148.2\t2457880\t0.50330\t0.50815\t38.75\t43425\t43400\n",
    "6148.2\t2457880\t0.50564\t0.50616\t35.01\t43500\t43500\n",
    "6148.2\t2457880\t0.50050\t0.50508\t21.24\t43575\t43500\n",
    "6148.4\t2457880\t0.50828\t0.50577\t23.75\t43376\t43350\n",
    "6148.4\t2457880\t0.50616\t0.50497\t16.25\t43500\t43526\n",
    "6148.4\t2457880\t0.50246\t0.50139\t25.00\t43500\t43500\n",
    "```\n",
    "\n",
    "You can see that the first column is in numerical order according to the decimal after `6148`, which is the DAQ ID for this detector and which doesn't change throughout the data.\n",
    "\n",
    "All of the `ID.CHANNEL` values occur multiple times, however.  Our primary sort on column 1 means that all `6148.1` lines come first in the ordering, but there's still a \"tie\" among the six different lines that have that value.  Within that block of six lines, we can re-arrange the individual lines so that the values of a different column are put into order, all while keeping these six `6148.1` lines at the top of the output.  This is a **secondary sort**, which \"breaks the tie\" whenever the primary sort values are equal.\n",
    "\n",
    "For instance, with the primary sort already done as above, we may want to perform a secondary sort on the `TIME OVER THRESHOLD` column.  The results look like this:\n",
    "\n",
    "```\n",
    "#ID.CHANNEL, Julian Day, RISING EDGE(sec), FALLING EDGE(sec), TIME OVER THRESHOLD (nanosec), RISING EDGE(INT), FALLING EDGE(INT)\n",
    "6148.1\t2457880\t0.50539\t0.50972\t 3.74\t43426\t43400\n",
    "6148.1\t2457880\t0.50091\t0.50262\t18.75\t43375\t43350\n",
    "6148.1\t2457880\t0.50789\t0.50960\t18.76\t43450\t43426\n",
    "6148.1\t2457880\t0.50040\t0.50355\t20.00\t43475\t43475\n",
    "6148.1\t2457880\t0.50096\t0.50569\t30.00\t43400\t43400\n",
    "6148.1\t2457880\t0.50751\t0.50802\t34.99\t43325\t43325\n",
    "6148.2\t2457880\t0.50050\t0.50508\t21.24\t43575\t43500\n",
    "6148.2\t2457880\t0.50564\t0.50616\t35.01\t43500\t43500\n",
    "6148.2\t2457880\t0.50330\t0.50815\t38.75\t43425\t43400\n",
    "6148.2\t2457880\t0.50059\t0.50978\t42.50\t43475\t43425\n",
    "6148.4\t2457880\t0.50616\t0.50497\t16.25\t43500\t43526\n",
    "6148.4\t2457880\t0.50828\t0.50577\t23.75\t43376\t43350\n",
    "6148.4\t2457880\t0.50246\t0.50139\t25.00\t43500\t43500\n",
    "```\n",
    "\n",
    "The data remains sorted by `ID.CHANNEL`, but whenever there's a tie for that value, the data is now sorted by the `TIME OVER THRESHOLD` value.\n",
    "\n",
    "You might ask, \"What if there's a tie in the secondary sort column?\"  Could we define a \"tertiary sort\" to break that tie, too?  Absolutely!  In principle, you can define as many \"tiebreaker\" sorts as there are columns of data.  In this specific case, however, the `Sort.pl` script doesn't define anything beyond a secondary sort because it has never been useful for any of the analyses in the Cosmic Ray e-Lab.  If two lines of data are tied for both the primary sort and secondary sort values, `Sort.pl` leaves them in whatever order it found them in in the input file (which is typically in order of the `RISING EDGE` value)."
   ]
  },
  {
   "cell_type": "markdown",
   "metadata": {},
   "source": [
    "Now that you understand what \"primary\" and \"secondary\" sorting is, we're ready to explore the `Sort.pl` data transformation using our standard method of investigation."
   ]
  },
  {
   "cell_type": "markdown",
   "metadata": {},
   "source": [
    "### 1) Investigate the input data"
   ]
  },
  {
   "cell_type": "markdown",
   "metadata": {},
   "source": [
    "In this case, you've already thoroughly investigated the input data when you read through the file output looking for \"time over threshold\" values in a given range.  Good work!"
   ]
  },
  {
   "cell_type": "markdown",
   "metadata": {},
   "source": [
    "### 2) Apply the data transformation"
   ]
  },
  {
   "cell_type": "markdown",
   "metadata": {},
   "source": [
    "Remember that the command-line call to `Sort.pl` is of the form\n",
    "\n",
    "`$ perl Sort.pl <input file> <output file> <primary sort column> <secondary sort column>`\n",
    "\n",
    "We're interested in \"time over threshold,\" so we'll sort by that as the primary column (that's column 5).  We don't have any particular interest in any other values, so we'll take column 1, the `ID.CHANNEL` value, as secondary sort.  We'll call the output file `6148.2017.0507.0-100.sorted01` and put it in the `outputs/` folder. The command will be\n",
    "\n",
    "`$ perl ../Files/eLabScripts/Sort.pl ../Files/Data/6148.2017.0507.0-100.thresh OutputFiles/6148.2017.0507.0-100.sorted_01 5 1`"
   ]
  },
  {
   "cell_type": "markdown",
   "metadata": {},
   "source": [
    "Let's run it:"
   ]
  },
  {
   "cell_type": "code",
   "execution_count": null,
   "metadata": {},
   "outputs": [],
   "source": [
    "!perl ../Files/eLabScripts/Sort.pl ../Files/Data/6148.2017.0507.0-100.thresh \\\n",
    "OutputFiles/6148.2017.0507.0-100.sorted_01 5 1"
   ]
  },
  {
   "cell_type": "markdown",
   "metadata": {},
   "source": [
    "### 3) Investigating the output data"
   ]
  },
  {
   "cell_type": "markdown",
   "metadata": {},
   "source": [
    "Before we look at the output, we'll set up the same test as before.  At the moment you run the next cell, start a timer.  In the entry box below the cell's output, copy and paste all lines of data with a \"time over threshold\" value between **15.24** and **21.80**.  When you're satisfied you've found them all, stop the timer."
   ]
  },
  {
   "cell_type": "code",
   "execution_count": null,
   "metadata": {
    "scrolled": false
   },
   "outputs": [],
   "source": [
    "!head -103 OutputFiles/6148.2017.0507.0-100.sorted_01"
   ]
  },
  {
   "cell_type": "code",
   "execution_count": 1,
   "metadata": {
    "code_folding": [
     0
    ]
   },
   "outputs": [
    {
     "data": {
      "application/vnd.jupyter.widget-view+json": {
       "model_id": "acc39ef11ef64d59bffea04e475b3613",
       "version_major": 2,
       "version_minor": 0
      },
      "text/html": [
       "<p>Failed to display Jupyter Widget of type <code>Textarea</code>.</p>\n",
       "<p>\n",
       "  If you're reading this message in the Jupyter Notebook or JupyterLab Notebook, it may mean\n",
       "  that the widgets JavaScript is still loading. If this message persists, it\n",
       "  likely means that the widgets JavaScript library is either not installed or\n",
       "  not enabled. See the <a href=\"https://ipywidgets.readthedocs.io/en/stable/user_install.html\">Jupyter\n",
       "  Widgets Documentation</a> for setup instructions.\n",
       "</p>\n",
       "<p>\n",
       "  If you're reading this message in another frontend (for example, a static\n",
       "  rendering on GitHub or <a href=\"https://nbviewer.jupyter.org/\">NBViewer</a>),\n",
       "  it may mean that your frontend doesn't currently support widgets.\n",
       "</p>\n"
      ],
      "text/plain": [
       "Textarea(value='', description='Data:', layout=Layout(height='200px', width='100%'), placeholder='Paste matching data lines here')"
      ]
     },
     "metadata": {},
     "output_type": "display_data"
    },
    {
     "data": {
      "application/vnd.jupyter.widget-view+json": {
       "model_id": "ea3b02cb88cb4b21b9235098b29a3a7b",
       "version_major": 2,
       "version_minor": 0
      },
      "text/html": [
       "<p>Failed to display Jupyter Widget of type <code>Text</code>.</p>\n",
       "<p>\n",
       "  If you're reading this message in the Jupyter Notebook or JupyterLab Notebook, it may mean\n",
       "  that the widgets JavaScript is still loading. If this message persists, it\n",
       "  likely means that the widgets JavaScript library is either not installed or\n",
       "  not enabled. See the <a href=\"https://ipywidgets.readthedocs.io/en/stable/user_install.html\">Jupyter\n",
       "  Widgets Documentation</a> for setup instructions.\n",
       "</p>\n",
       "<p>\n",
       "  If you're reading this message in another frontend (for example, a static\n",
       "  rendering on GitHub or <a href=\"https://nbviewer.jupyter.org/\">NBViewer</a>),\n",
       "  it may mean that your frontend doesn't currently support widgets.\n",
       "</p>\n"
      ],
      "text/plain": [
       "Text(value='', description='# lines:', placeholder='Number of data lines')"
      ]
     },
     "metadata": {},
     "output_type": "display_data"
    },
    {
     "data": {
      "application/vnd.jupyter.widget-view+json": {
       "model_id": "8ae28677c457482b88b1236c3517e27e",
       "version_major": 2,
       "version_minor": 0
      },
      "text/html": [
       "<p>Failed to display Jupyter Widget of type <code>Text</code>.</p>\n",
       "<p>\n",
       "  If you're reading this message in the Jupyter Notebook or JupyterLab Notebook, it may mean\n",
       "  that the widgets JavaScript is still loading. If this message persists, it\n",
       "  likely means that the widgets JavaScript library is either not installed or\n",
       "  not enabled. See the <a href=\"https://ipywidgets.readthedocs.io/en/stable/user_install.html\">Jupyter\n",
       "  Widgets Documentation</a> for setup instructions.\n",
       "</p>\n",
       "<p>\n",
       "  If you're reading this message in another frontend (for example, a static\n",
       "  rendering on GitHub or <a href=\"https://nbviewer.jupyter.org/\">NBViewer</a>),\n",
       "  it may mean that your frontend doesn't currently support widgets.\n",
       "</p>\n"
      ],
      "text/plain": [
       "Text(value='', description='Time (s):', placeholder='Time')"
      ]
     },
     "metadata": {},
     "output_type": "display_data"
    }
   ],
   "source": [
    "# Textarea widget\n",
    "import ipywidgets as widgets\n",
    "dataFound = widgets.Textarea(\n",
    "    value='',\n",
    "    placeholder='Paste matching data lines here',\n",
    "    description='Data:',\n",
    "    disabled=False,\n",
    "    layout=widgets.Layout(width='100%', height='200px')\n",
    ")\n",
    "\n",
    "numberFound = widgets.Text(\n",
    "    value='',\n",
    "    placeholder='Number of data lines',\n",
    "    description='# lines:',\n",
    "    disabled=False\n",
    ")\n",
    "\n",
    "timeToFind = widgets.Text(\n",
    "    value='',\n",
    "    placeholder='Time',\n",
    "    description='Time (s):',\n",
    "    disabled=False\n",
    ")\n",
    "\n",
    "display(dataFound)\n",
    "display(numberFound)\n",
    "display(timeToFind)"
   ]
  },
  {
   "cell_type": "markdown",
   "metadata": {},
   "source": [
    "At this point, you should have a good idea of how sorting works as a data transformation, how to use the `Sort.pl` data transformation script, and why sorting data strategically can make data easier to find in a large set.  We'll provide one final example of the utility of sorting data for easy interpretation."
   ]
  },
  {
   "cell_type": "markdown",
   "metadata": {},
   "source": [
    "## More: Binning unsorted and sorted data"
   ]
  },
  {
   "cell_type": "markdown",
   "metadata": {},
   "source": [
    "As you saw during the timed exercises, sorting data helps identify when data falls into specific \"bins\" or intervals.  The following bonus demonstration will help you visualize that effect."
   ]
  },
  {
   "cell_type": "code",
   "execution_count": 3,
   "metadata": {
    "code_folding": [
     0
    ]
   },
   "outputs": [
    {
     "data": {
      "text/html": [
       "<style type=\"text/css\">\n",
       "              #left {float:left; width:50%;}\n",
       "              #right {float:right; width:50%;}\n",
       "              .clearfix:after {content: \" \"; visibility: hidden; display: block; height: 0; clear: both;}\n",
       "              .datatable {font-family: monospace; margin: 0 auto; text-align:left; float:left;}\n",
       "              .headerrow {background:light grey; text-align:left;}\n",
       "              </style><div id=\"container\" class=\"clearfix\">\n",
       "                <div id=\"left\" class=\"clearfix\">\n",
       "                <table class=\"datatable\"><tr class=\"headerrow\">\n",
       "            <th>ID.Channel</th><th>Day</th><th>Rising Edge</th><th>Falling Edge</th><th>ToT</th></tr><tr style=\"background:#a1a1ff; text-align:left;\"><td>6148.1</td><td>2457880</td><td>0.50173</td><td>0.50173</td><td>34.99</td></tr><tr style=\"background:#c9e0c9; text-align:left;\"><td>6148.1</td><td>2457880</td><td>0.50173</td><td>0.50173</td><td>18.75</td></tr><tr style=\"background:#bbbbff; text-align:left;\"><td>6148.4</td><td>2457880</td><td>0.50173</td><td>0.50173</td><td>23.75</td></tr><tr style=\"background:#93c293; text-align:left;\"><td>6148.2</td><td>2457880</td><td>0.50303</td><td>0.50303</td><td>42.50</td></tr><tr style=\"background:#aed1ae; text-align:left;\"><td>6148.1</td><td>2457880</td><td>0.50303</td><td>0.50303</td><td>30.00</td></tr><tr style=\"background:#c9e0c9; text-align:left;\"><td>6148.1</td><td>2457880</td><td>0.5032</td><td>0.5032</td><td>20.00</td></tr><tr style=\"background:#c9e0c9; text-align:left;\"><td>6148.1</td><td>2457880</td><td>0.5032</td><td>0.5032</td><td>18.76</td></tr><tr style=\"background:#a1caa1; text-align:left;\"><td>6148.2</td><td>2457880</td><td>0.5032</td><td>0.5032</td><td>38.75</td></tr><tr style=\"background:#e4e4ff; text-align:left;\"><td>6148.1</td><td>2457880</td><td>0.5032</td><td>0.5032</td><td>3.74</td></tr><tr style=\"background:#a1a1ff; text-align:left;\"><td>6148.2</td><td>2457880</td><td>0.50425</td><td>0.50425</td><td>35.01</td></tr><tr style=\"background:#c9c9ff; text-align:left;\"><td>6148.4</td><td>2457880</td><td>0.50425</td><td>0.50425</td><td>16.25</td></tr><tr style=\"background:#bbbbff; text-align:left;\"><td>6148.2</td><td>2457880</td><td>0.50461</td><td>0.50461</td><td>21.24</td></tr><tr style=\"background:#bbd9bb; text-align:left;\"><td>6148.4</td><td>2457880</td><td>0.50461</td><td>0.50461</td><td>25.00</td></tr><tr style=\"background:#a1caa1; text-align:left;\"><td>6148.3</td><td>2457880</td><td>0.50461</td><td>0.50461</td><td>38.75</td></tr><tr style=\"background:#bbbbff; text-align:left;\"><td>6148.3</td><td>2457880</td><td>0.50461</td><td>0.50461</td><td>23.75</td></tr><tr style=\"background:#aeaeff; text-align:left;\"><td>6148.2</td><td>2457880</td><td>0.50502</td><td>0.50502</td><td>28.76</td></tr><tr style=\"background:#c9c9ff; text-align:left;\"><td>6148.4</td><td>2457880</td><td>0.50502</td><td>0.50502</td><td>16.26</td></tr><tr style=\"background:#c9e0c9; text-align:left;\"><td>6148.3</td><td>2457880</td><td>0.50516</td><td>0.50516</td><td>20.00</td></tr><tr style=\"background:#a1caa1; text-align:left;\"><td>6148.4</td><td>2457880</td><td>0.50516</td><td>0.50516</td><td>38.75</td></tr><tr style=\"background:#aed1ae; text-align:left;\"><td>6148.2</td><td>2457880</td><td>0.50568</td><td>0.50568</td><td>30.00</td></tr><tr style=\"background:#bbbbff; text-align:left;\"><td>6148.3</td><td>2457880</td><td>0.50568</td><td>0.50568</td><td>21.25</td></tr><tr style=\"background:#a1caa1; text-align:left;\"><td>6148.1</td><td>2457880</td><td>0.50611</td><td>0.50611</td><td>37.51</td></tr><tr style=\"background:#d6d6ff; text-align:left;\"><td>6148.1</td><td>2457880</td><td>0.50611</td><td>0.50611</td><td>11.25</td></tr><tr style=\"background:#d6e6d6; text-align:left;\"><td>6148.4</td><td>2457880</td><td>0.50611</td><td>0.50611</td><td>13.75</td></tr><tr style=\"background:#c9c9ff; text-align:left;\"><td>6148.3</td><td>2457880</td><td>0.50611</td><td>0.50611</td><td>16.25</td></tr><tr style=\"background:#aed1ae; text-align:left;\"><td>6148.3</td><td>2457880</td><td>0.50652</td><td>0.50652</td><td>32.50</td></tr><tr style=\"background:#86bb86; text-align:left;\"><td>6148.1</td><td>2457880</td><td>0.50652</td><td>0.50652</td><td>50.00</td></tr><tr style=\"background:#c9c9ff; text-align:left;\"><td>6148.3</td><td>2457880</td><td>0.50664</td><td>0.50664</td><td>16.25</td></tr><tr style=\"background:#bbbbff; text-align:left;\"><td>6148.4</td><td>2457880</td><td>0.50664</td><td>0.50664</td><td>21.25</td></tr><tr style=\"background:#d6e6d6; text-align:left;\"><td>6148.2</td><td>2457880</td><td>0.50708</td><td>0.50708</td><td>13.75</td></tr><tr style=\"background:#c9e0c9; text-align:left;\"><td>6148.4</td><td>2457880</td><td>0.50727</td><td>0.50727</td><td>18.74</td></tr><tr style=\"background:#aed1ae; text-align:left;\"><td>6148.3</td><td>2457880</td><td>0.50727</td><td>0.50727</td><td>31.25</td></tr><tr style=\"background:#bbbbff; text-align:left;\"><td>6148.2</td><td>2457880</td><td>0.50776</td><td>0.50776</td><td>22.50</td></tr><tr style=\"background:#c9c9ff; text-align:left;\"><td>6148.2</td><td>2457880</td><td>0.50776</td><td>0.50776</td><td>15.00</td></tr><tr style=\"background:#bbbbff; text-align:left;\"><td>6148.4</td><td>2457880</td><td>0.50776</td><td>0.50776</td><td>22.50</td></tr><tr style=\"background:#d6d6ff; text-align:left;\"><td>6148.4</td><td>2457880</td><td>0.50776</td><td>0.50776</td><td>11.24</td></tr><tr style=\"background:#d6e6d6; text-align:left;\"><td>6148.3</td><td>2457880</td><td>0.50781</td><td>0.50781</td><td>13.75</td></tr><tr style=\"background:#6bac6b; text-align:left;\"><td>6148.2</td><td>2457880</td><td>0.50781</td><td>0.50781</td><td>62.49</td></tr><tr style=\"background:#aeaeff; text-align:left;\"><td>6148.1</td><td>2457880</td><td>0.50799</td><td>0.50799</td><td>28.75</td></tr><tr style=\"background:#a1caa1; text-align:left;\"><td>6148.2</td><td>2457880</td><td>0.50799</td><td>0.50799</td><td>37.51</td></tr><tr style=\"background:#bbbbff; text-align:left;\"><td>6148.2</td><td>2457880</td><td>0.50799</td><td>0.50799</td><td>23.74</td></tr><tr style=\"background:#aed1ae; text-align:left;\"><td>6148.4</td><td>2457880</td><td>0.50799</td><td>0.50799</td><td>32.49</td></tr><tr style=\"background:#a1a1ff; text-align:left;\"><td>6148.3</td><td>2457880</td><td>0.50799</td><td>0.50799</td><td>33.75</td></tr><tr style=\"background:#aed1ae; text-align:left;\"><td>6148.1</td><td>2457880</td><td>0.50806</td><td>0.50806</td><td>30.00</td></tr><tr style=\"background:#bbd9bb; text-align:left;\"><td>6148.2</td><td>2457880</td><td>0.50806</td><td>0.50806</td><td>26.25</td></tr><tr style=\"background:#d6e6d6; text-align:left;\"><td>6148.1</td><td>2457880</td><td>0.50806</td><td>0.50806</td><td>13.76</td></tr><tr style=\"background:#c9e0c9; text-align:left;\"><td>6148.4</td><td>2457880</td><td>0.50837</td><td>0.50837</td><td>20.00</td></tr><tr style=\"background:#aed1ae; text-align:left;\"><td>6148.3</td><td>2457880</td><td>0.50837</td><td>0.50837</td><td>31.25</td></tr><tr style=\"background:#e4efe4; text-align:left;\"><td>6148.2</td><td>2457880</td><td>0.5084</td><td>0.5084</td><td>6.24</td></tr><tr style=\"background:#d6d6ff; text-align:left;\"><td>6148.3</td><td>2457880</td><td>0.5084</td><td>0.5084</td><td>11.25</td></tr><tr style=\"background:#c9e0c9; text-align:left;\"><td>6148.3</td><td>2457880</td><td>0.51171</td><td>0.51171</td><td>20.00</td></tr><tr style=\"background:#a1caa1; text-align:left;\"><td>6148.4</td><td>2457880</td><td>0.51171</td><td>0.51171</td><td>36.25</td></tr><tr style=\"background:#d6e6d6; text-align:left;\"><td>6148.4</td><td>2457880</td><td>0.51171</td><td>0.51171</td><td>14.99</td></tr><tr style=\"background:#aed1ae; text-align:left;\"><td>6148.1</td><td>2457880</td><td>0.5118</td><td>0.5118</td><td>31.26</td></tr><tr style=\"background:#8686ff; text-align:left;\"><td>6148.2</td><td>2457880</td><td>0.5118</td><td>0.5118</td><td>47.50</td></tr><tr style=\"background:#c9c9ff; text-align:left;\"><td>6148.4</td><td>2457880</td><td>0.5118</td><td>0.5118</td><td>16.26</td></tr><tr style=\"background:#a1a1ff; text-align:left;\"><td>6148.3</td><td>2457880</td><td>0.5118</td><td>0.5118</td><td>33.75</td></tr><tr style=\"background:#9393ff; text-align:left;\"><td>6148.2</td><td>2457880</td><td>0.51194</td><td>0.51194</td><td>40.00</td></tr><tr style=\"background:#a1a1ff; text-align:left;\"><td>6148.3</td><td>2457880</td><td>0.51194</td><td>0.51194</td><td>35.00</td></tr><tr style=\"background:#aed1ae; text-align:left;\"><td>6148.4</td><td>2457880</td><td>0.51194</td><td>0.51194</td><td>31.25</td></tr><tr style=\"background:#aed1ae; text-align:left;\"><td>6148.1</td><td>2457880</td><td>0.51296</td><td>0.51296</td><td>31.24</td></tr><tr style=\"background:#c9c9ff; text-align:left;\"><td>6148.4</td><td>2457880</td><td>0.51296</td><td>0.51296</td><td>16.25</td></tr><tr style=\"background:#aed1ae; text-align:left;\"><td>6148.2</td><td>2457880</td><td>0.51336</td><td>0.51336</td><td>31.26</td></tr><tr style=\"background:#aeaeff; text-align:left;\"><td>6148.3</td><td>2457880</td><td>0.51336</td><td>0.51336</td><td>27.49</td></tr><tr style=\"background:#bbbbff; text-align:left;\"><td>6148.2</td><td>2457880</td><td>0.5138</td><td>0.5138</td><td>23.75</td></tr><tr style=\"background:#a1caa1; text-align:left;\"><td>6148.3</td><td>2457880</td><td>0.5138</td><td>0.5138</td><td>37.51</td></tr><tr style=\"background:#d6e6d6; text-align:left;\"><td>6148.2</td><td>2457880</td><td>0.51469</td><td>0.51469</td><td>13.76</td></tr><tr style=\"background:#a1a1ff; text-align:left;\"><td>6148.1</td><td>2457880</td><td>0.51469</td><td>0.51469</td><td>35.00</td></tr><tr style=\"background:#c9c9ff; text-align:left;\"><td>6148.3</td><td>2457880</td><td>0.51469</td><td>0.51469</td><td>15.00</td></tr><tr style=\"background:#bbbbff; text-align:left;\"><td>6148.4</td><td>2457880</td><td>0.51469</td><td>0.51469</td><td>23.74</td></tr><tr style=\"background:#d6e6d6; text-align:left;\"><td>6148.1</td><td>2457880</td><td>0.51524</td><td>0.51524</td><td>12.50</td></tr><tr style=\"background:#a1caa1; text-align:left;\"><td>6148.3</td><td>2457880</td><td>0.51524</td><td>0.51524</td><td>36.25</td></tr><tr style=\"background:#aeaeff; text-align:left;\"><td>6148.3</td><td>2457880</td><td>0.51528</td><td>0.51528</td><td>28.75</td></tr><tr style=\"background:#bbbbff; text-align:left;\"><td>6148.4</td><td>2457880</td><td>0.51528</td><td>0.51528</td><td>22.49</td></tr><tr style=\"background:#d6d6ff; text-align:left;\"><td>6148.2</td><td>2457880</td><td>0.5156</td><td>0.5156</td><td>11.25</td></tr><tr style=\"background:#aed1ae; text-align:left;\"><td>6148.1</td><td>2457880</td><td>0.5156</td><td>0.5156</td><td>31.26</td></tr><tr style=\"background:#c9e0c9; text-align:left;\"><td>6148.4</td><td>2457880</td><td>0.5156</td><td>0.5156</td><td>20.00</td></tr><tr style=\"background:#aeaeff; text-align:left;\"><td>6148.3</td><td>2457880</td><td>0.5156</td><td>0.5156</td><td>27.50</td></tr><tr style=\"background:#aeaeff; text-align:left;\"><td>6148.3</td><td>2457880</td><td>0.51687</td><td>0.51687</td><td>28.75</td></tr><tr style=\"background:#bbd9bb; text-align:left;\"><td>6148.4</td><td>2457880</td><td>0.51687</td><td>0.51687</td><td>26.25</td></tr><tr style=\"background:#8686ff; text-align:left;\"><td>6148.2</td><td>2457880</td><td>0.51719</td><td>0.51719</td><td>45.01</td></tr><tr style=\"background:#c9c9ff; text-align:left;\"><td>6148.4</td><td>2457880</td><td>0.51719</td><td>0.51719</td><td>17.50</td></tr><tr style=\"background:#a1a1ff; text-align:left;\"><td>6148.1</td><td>2457880</td><td>0.5175</td><td>0.5175</td><td>35.00</td></tr><tr style=\"background:#c9e0c9; text-align:left;\"><td>6148.3</td><td>2457880</td><td>0.5175</td><td>0.5175</td><td>20.00</td></tr><tr style=\"background:#aeaeff; text-align:left;\"><td>6148.2</td><td>2457880</td><td>0.51751</td><td>0.51751</td><td>27.49</td></tr><tr style=\"background:#c9e0c9; text-align:left;\"><td>6148.4</td><td>2457880</td><td>0.51751</td><td>0.51751</td><td>20.00</td></tr><tr style=\"background:#bbbbff; text-align:left;\"><td>6148.2</td><td>2457880</td><td>0.51769</td><td>0.51769</td><td>22.49</td></tr><tr style=\"background:#d6e6d6; text-align:left;\"><td>6148.1</td><td>2457880</td><td>0.51769</td><td>0.51769</td><td>14.99</td></tr><tr style=\"background:#aed1ae; text-align:left;\"><td>6148.2</td><td>2457880</td><td>0.51825</td><td>0.51825</td><td>32.50</td></tr><tr style=\"background:#a1caa1; text-align:left;\"><td>6148.1</td><td>2457880</td><td>0.51825</td><td>0.51825</td><td>36.26</td></tr><tr style=\"background:#a1a1ff; text-align:left;\"><td>6148.3</td><td>2457880</td><td>0.51825</td><td>0.51825</td><td>34.98</td></tr><tr style=\"background:#c9e0c9; text-align:left;\"><td>6148.2</td><td>2457880</td><td>0.51835</td><td>0.51835</td><td>18.75</td></tr><tr style=\"background:#aed1ae; text-align:left;\"><td>6148.3</td><td>2457880</td><td>0.51835</td><td>0.51835</td><td>31.24</td></tr><tr style=\"background:#a1caa1; text-align:left;\"><td>6148.2</td><td>2457880</td><td>0.51848</td><td>0.51848</td><td>37.51</td></tr><tr style=\"background:#8686ff; text-align:left;\"><td>6148.1</td><td>2457880</td><td>0.51848</td><td>0.51848</td><td>45.01</td></tr><tr style=\"background:#c9e0c9; text-align:left;\"><td>6148.3</td><td>2457880</td><td>0.51848</td><td>0.51848</td><td>20.01</td></tr><tr style=\"background:#c9c9ff; text-align:left;\"><td>6148.4</td><td>2457880</td><td>0.51848</td><td>0.51848</td><td>16.25</td></tr><tr style=\"background:#aeaeff; text-align:left;\"><td>6148.4</td><td>2457880</td><td>0.5186</td><td>0.5186</td><td>28.75</td></tr><tr style=\"background:#aed1ae; text-align:left;\"><td>6148.3</td><td>2457880</td><td>0.5186</td><td>0.5186</td><td>32.49</td></tr><tr style=\"background:#a1caa1; text-align:left;\"><td>6148.1</td><td>2457880</td><td>0.51907</td><td>0.51907</td><td>38.75</td></tr></table>\n",
       "                </div>\n",
       "                <div id=\"right\" class=\"clearfix\">\n",
       "                <table class=\"datatable\"><tr class=\"headerrow\">\n",
       "            <th>ID.Channel</th><th>Day</th><th>Rising Edge</th><th>Falling Edge</th><th>ToT</th></tr><tr style=\"background:#e4e4ff; text-align:left;\"><td>6148.1</td><td>2457880</td><td>0.5032</td><td>0.5032</td><td>3.74</td></tr><tr style=\"background:#e4efe4; text-align:left;\"><td>6148.2</td><td>2457880</td><td>0.5084</td><td>0.5084</td><td>6.24</td></tr><tr style=\"background:#d6d6ff; text-align:left;\"><td>6148.4</td><td>2457880</td><td>0.50776</td><td>0.50776</td><td>11.24</td></tr><tr style=\"background:#d6d6ff; text-align:left;\"><td>6148.1</td><td>2457880</td><td>0.50611</td><td>0.50611</td><td>11.25</td></tr><tr style=\"background:#d6d6ff; text-align:left;\"><td>6148.2</td><td>2457880</td><td>0.5156</td><td>0.5156</td><td>11.25</td></tr><tr style=\"background:#d6d6ff; text-align:left;\"><td>6148.3</td><td>2457880</td><td>0.5084</td><td>0.5084</td><td>11.25</td></tr><tr style=\"background:#d6e6d6; text-align:left;\"><td>6148.1</td><td>2457880</td><td>0.51524</td><td>0.51524</td><td>12.50</td></tr><tr style=\"background:#d6e6d6; text-align:left;\"><td>6148.2</td><td>2457880</td><td>0.50708</td><td>0.50708</td><td>13.75</td></tr><tr style=\"background:#d6e6d6; text-align:left;\"><td>6148.3</td><td>2457880</td><td>0.50781</td><td>0.50781</td><td>13.75</td></tr><tr style=\"background:#d6e6d6; text-align:left;\"><td>6148.4</td><td>2457880</td><td>0.50611</td><td>0.50611</td><td>13.75</td></tr><tr style=\"background:#d6e6d6; text-align:left;\"><td>6148.1</td><td>2457880</td><td>0.50806</td><td>0.50806</td><td>13.76</td></tr><tr style=\"background:#d6e6d6; text-align:left;\"><td>6148.2</td><td>2457880</td><td>0.51469</td><td>0.51469</td><td>13.76</td></tr><tr style=\"background:#d6e6d6; text-align:left;\"><td>6148.1</td><td>2457880</td><td>0.51769</td><td>0.51769</td><td>14.99</td></tr><tr style=\"background:#d6e6d6; text-align:left;\"><td>6148.4</td><td>2457880</td><td>0.51171</td><td>0.51171</td><td>14.99</td></tr><tr style=\"background:#c9c9ff; text-align:left;\"><td>6148.2</td><td>2457880</td><td>0.50776</td><td>0.50776</td><td>15.00</td></tr><tr style=\"background:#c9c9ff; text-align:left;\"><td>6148.3</td><td>2457880</td><td>0.51469</td><td>0.51469</td><td>15.00</td></tr><tr style=\"background:#c9c9ff; text-align:left;\"><td>6148.3</td><td>2457880</td><td>0.50611</td><td>0.50611</td><td>16.25</td></tr><tr style=\"background:#c9c9ff; text-align:left;\"><td>6148.3</td><td>2457880</td><td>0.50664</td><td>0.50664</td><td>16.25</td></tr><tr style=\"background:#c9c9ff; text-align:left;\"><td>6148.4</td><td>2457880</td><td>0.50425</td><td>0.50425</td><td>16.25</td></tr><tr style=\"background:#c9c9ff; text-align:left;\"><td>6148.4</td><td>2457880</td><td>0.51296</td><td>0.51296</td><td>16.25</td></tr><tr style=\"background:#c9c9ff; text-align:left;\"><td>6148.4</td><td>2457880</td><td>0.51848</td><td>0.51848</td><td>16.25</td></tr><tr style=\"background:#c9c9ff; text-align:left;\"><td>6148.4</td><td>2457880</td><td>0.50502</td><td>0.50502</td><td>16.26</td></tr><tr style=\"background:#c9c9ff; text-align:left;\"><td>6148.4</td><td>2457880</td><td>0.5118</td><td>0.5118</td><td>16.26</td></tr><tr style=\"background:#c9c9ff; text-align:left;\"><td>6148.4</td><td>2457880</td><td>0.51719</td><td>0.51719</td><td>17.50</td></tr><tr style=\"background:#c9e0c9; text-align:left;\"><td>6148.4</td><td>2457880</td><td>0.50727</td><td>0.50727</td><td>18.74</td></tr><tr style=\"background:#c9e0c9; text-align:left;\"><td>6148.1</td><td>2457880</td><td>0.50173</td><td>0.50173</td><td>18.75</td></tr><tr style=\"background:#c9e0c9; text-align:left;\"><td>6148.2</td><td>2457880</td><td>0.51835</td><td>0.51835</td><td>18.75</td></tr><tr style=\"background:#c9e0c9; text-align:left;\"><td>6148.1</td><td>2457880</td><td>0.5032</td><td>0.5032</td><td>18.76</td></tr><tr style=\"background:#c9e0c9; text-align:left;\"><td>6148.1</td><td>2457880</td><td>0.5032</td><td>0.5032</td><td>20.00</td></tr><tr style=\"background:#c9e0c9; text-align:left;\"><td>6148.3</td><td>2457880</td><td>0.50516</td><td>0.50516</td><td>20.00</td></tr><tr style=\"background:#c9e0c9; text-align:left;\"><td>6148.3</td><td>2457880</td><td>0.51171</td><td>0.51171</td><td>20.00</td></tr><tr style=\"background:#c9e0c9; text-align:left;\"><td>6148.3</td><td>2457880</td><td>0.5175</td><td>0.5175</td><td>20.00</td></tr><tr style=\"background:#c9e0c9; text-align:left;\"><td>6148.4</td><td>2457880</td><td>0.50837</td><td>0.50837</td><td>20.00</td></tr><tr style=\"background:#c9e0c9; text-align:left;\"><td>6148.4</td><td>2457880</td><td>0.5156</td><td>0.5156</td><td>20.00</td></tr><tr style=\"background:#c9e0c9; text-align:left;\"><td>6148.4</td><td>2457880</td><td>0.51751</td><td>0.51751</td><td>20.00</td></tr><tr style=\"background:#c9e0c9; text-align:left;\"><td>6148.3</td><td>2457880</td><td>0.51848</td><td>0.51848</td><td>20.01</td></tr><tr style=\"background:#bbbbff; text-align:left;\"><td>6148.2</td><td>2457880</td><td>0.50461</td><td>0.50461</td><td>21.24</td></tr><tr style=\"background:#bbbbff; text-align:left;\"><td>6148.3</td><td>2457880</td><td>0.50568</td><td>0.50568</td><td>21.25</td></tr><tr style=\"background:#bbbbff; text-align:left;\"><td>6148.4</td><td>2457880</td><td>0.50664</td><td>0.50664</td><td>21.25</td></tr><tr style=\"background:#bbbbff; text-align:left;\"><td>6148.2</td><td>2457880</td><td>0.51769</td><td>0.51769</td><td>22.49</td></tr><tr style=\"background:#bbbbff; text-align:left;\"><td>6148.4</td><td>2457880</td><td>0.51528</td><td>0.51528</td><td>22.49</td></tr><tr style=\"background:#bbbbff; text-align:left;\"><td>6148.2</td><td>2457880</td><td>0.50776</td><td>0.50776</td><td>22.50</td></tr><tr style=\"background:#bbbbff; text-align:left;\"><td>6148.4</td><td>2457880</td><td>0.50776</td><td>0.50776</td><td>22.50</td></tr><tr style=\"background:#bbbbff; text-align:left;\"><td>6148.2</td><td>2457880</td><td>0.50799</td><td>0.50799</td><td>23.74</td></tr><tr style=\"background:#bbbbff; text-align:left;\"><td>6148.4</td><td>2457880</td><td>0.51469</td><td>0.51469</td><td>23.74</td></tr><tr style=\"background:#bbbbff; text-align:left;\"><td>6148.2</td><td>2457880</td><td>0.5138</td><td>0.5138</td><td>23.75</td></tr><tr style=\"background:#bbbbff; text-align:left;\"><td>6148.3</td><td>2457880</td><td>0.50461</td><td>0.50461</td><td>23.75</td></tr><tr style=\"background:#bbbbff; text-align:left;\"><td>6148.4</td><td>2457880</td><td>0.50173</td><td>0.50173</td><td>23.75</td></tr><tr style=\"background:#bbd9bb; text-align:left;\"><td>6148.4</td><td>2457880</td><td>0.50461</td><td>0.50461</td><td>25.00</td></tr><tr style=\"background:#bbd9bb; text-align:left;\"><td>6148.2</td><td>2457880</td><td>0.50806</td><td>0.50806</td><td>26.25</td></tr><tr style=\"background:#bbd9bb; text-align:left;\"><td>6148.4</td><td>2457880</td><td>0.51687</td><td>0.51687</td><td>26.25</td></tr><tr style=\"background:#aeaeff; text-align:left;\"><td>6148.2</td><td>2457880</td><td>0.51751</td><td>0.51751</td><td>27.49</td></tr><tr style=\"background:#aeaeff; text-align:left;\"><td>6148.3</td><td>2457880</td><td>0.51336</td><td>0.51336</td><td>27.49</td></tr><tr style=\"background:#aeaeff; text-align:left;\"><td>6148.3</td><td>2457880</td><td>0.5156</td><td>0.5156</td><td>27.50</td></tr><tr style=\"background:#aeaeff; text-align:left;\"><td>6148.1</td><td>2457880</td><td>0.50799</td><td>0.50799</td><td>28.75</td></tr><tr style=\"background:#aeaeff; text-align:left;\"><td>6148.3</td><td>2457880</td><td>0.51528</td><td>0.51528</td><td>28.75</td></tr><tr style=\"background:#aeaeff; text-align:left;\"><td>6148.3</td><td>2457880</td><td>0.51687</td><td>0.51687</td><td>28.75</td></tr><tr style=\"background:#aeaeff; text-align:left;\"><td>6148.4</td><td>2457880</td><td>0.5186</td><td>0.5186</td><td>28.75</td></tr><tr style=\"background:#aeaeff; text-align:left;\"><td>6148.2</td><td>2457880</td><td>0.50502</td><td>0.50502</td><td>28.76</td></tr><tr style=\"background:#aed1ae; text-align:left;\"><td>6148.1</td><td>2457880</td><td>0.50303</td><td>0.50303</td><td>30.00</td></tr><tr style=\"background:#aed1ae; text-align:left;\"><td>6148.1</td><td>2457880</td><td>0.50806</td><td>0.50806</td><td>30.00</td></tr><tr style=\"background:#aed1ae; text-align:left;\"><td>6148.2</td><td>2457880</td><td>0.50568</td><td>0.50568</td><td>30.00</td></tr><tr style=\"background:#aed1ae; text-align:left;\"><td>6148.1</td><td>2457880</td><td>0.51296</td><td>0.51296</td><td>31.24</td></tr><tr style=\"background:#aed1ae; text-align:left;\"><td>6148.3</td><td>2457880</td><td>0.51835</td><td>0.51835</td><td>31.24</td></tr><tr style=\"background:#aed1ae; text-align:left;\"><td>6148.3</td><td>2457880</td><td>0.50727</td><td>0.50727</td><td>31.25</td></tr><tr style=\"background:#aed1ae; text-align:left;\"><td>6148.3</td><td>2457880</td><td>0.50837</td><td>0.50837</td><td>31.25</td></tr><tr style=\"background:#aed1ae; text-align:left;\"><td>6148.4</td><td>2457880</td><td>0.51194</td><td>0.51194</td><td>31.25</td></tr><tr style=\"background:#aed1ae; text-align:left;\"><td>6148.1</td><td>2457880</td><td>0.5118</td><td>0.5118</td><td>31.26</td></tr><tr style=\"background:#aed1ae; text-align:left;\"><td>6148.1</td><td>2457880</td><td>0.5156</td><td>0.5156</td><td>31.26</td></tr><tr style=\"background:#aed1ae; text-align:left;\"><td>6148.2</td><td>2457880</td><td>0.51336</td><td>0.51336</td><td>31.26</td></tr><tr style=\"background:#aed1ae; text-align:left;\"><td>6148.3</td><td>2457880</td><td>0.5186</td><td>0.5186</td><td>32.49</td></tr><tr style=\"background:#aed1ae; text-align:left;\"><td>6148.4</td><td>2457880</td><td>0.50799</td><td>0.50799</td><td>32.49</td></tr><tr style=\"background:#aed1ae; text-align:left;\"><td>6148.2</td><td>2457880</td><td>0.51825</td><td>0.51825</td><td>32.50</td></tr><tr style=\"background:#aed1ae; text-align:left;\"><td>6148.3</td><td>2457880</td><td>0.50652</td><td>0.50652</td><td>32.50</td></tr><tr style=\"background:#a1a1ff; text-align:left;\"><td>6148.3</td><td>2457880</td><td>0.50799</td><td>0.50799</td><td>33.75</td></tr><tr style=\"background:#a1a1ff; text-align:left;\"><td>6148.3</td><td>2457880</td><td>0.5118</td><td>0.5118</td><td>33.75</td></tr><tr style=\"background:#a1a1ff; text-align:left;\"><td>6148.3</td><td>2457880</td><td>0.51825</td><td>0.51825</td><td>34.98</td></tr><tr style=\"background:#a1a1ff; text-align:left;\"><td>6148.1</td><td>2457880</td><td>0.50173</td><td>0.50173</td><td>34.99</td></tr><tr style=\"background:#a1a1ff; text-align:left;\"><td>6148.1</td><td>2457880</td><td>0.51469</td><td>0.51469</td><td>35.00</td></tr><tr style=\"background:#a1a1ff; text-align:left;\"><td>6148.1</td><td>2457880</td><td>0.5175</td><td>0.5175</td><td>35.00</td></tr><tr style=\"background:#a1a1ff; text-align:left;\"><td>6148.3</td><td>2457880</td><td>0.51194</td><td>0.51194</td><td>35.00</td></tr><tr style=\"background:#a1a1ff; text-align:left;\"><td>6148.2</td><td>2457880</td><td>0.50425</td><td>0.50425</td><td>35.01</td></tr><tr style=\"background:#a1caa1; text-align:left;\"><td>6148.3</td><td>2457880</td><td>0.51524</td><td>0.51524</td><td>36.25</td></tr><tr style=\"background:#a1caa1; text-align:left;\"><td>6148.4</td><td>2457880</td><td>0.51171</td><td>0.51171</td><td>36.25</td></tr><tr style=\"background:#a1caa1; text-align:left;\"><td>6148.1</td><td>2457880</td><td>0.51825</td><td>0.51825</td><td>36.26</td></tr><tr style=\"background:#a1caa1; text-align:left;\"><td>6148.1</td><td>2457880</td><td>0.50611</td><td>0.50611</td><td>37.51</td></tr><tr style=\"background:#a1caa1; text-align:left;\"><td>6148.2</td><td>2457880</td><td>0.50799</td><td>0.50799</td><td>37.51</td></tr><tr style=\"background:#a1caa1; text-align:left;\"><td>6148.2</td><td>2457880</td><td>0.51848</td><td>0.51848</td><td>37.51</td></tr><tr style=\"background:#a1caa1; text-align:left;\"><td>6148.3</td><td>2457880</td><td>0.5138</td><td>0.5138</td><td>37.51</td></tr><tr style=\"background:#a1caa1; text-align:left;\"><td>6148.1</td><td>2457880</td><td>0.51907</td><td>0.51907</td><td>38.75</td></tr><tr style=\"background:#a1caa1; text-align:left;\"><td>6148.2</td><td>2457880</td><td>0.5032</td><td>0.5032</td><td>38.75</td></tr><tr style=\"background:#a1caa1; text-align:left;\"><td>6148.3</td><td>2457880</td><td>0.50461</td><td>0.50461</td><td>38.75</td></tr><tr style=\"background:#a1caa1; text-align:left;\"><td>6148.4</td><td>2457880</td><td>0.50516</td><td>0.50516</td><td>38.75</td></tr><tr style=\"background:#9393ff; text-align:left;\"><td>6148.2</td><td>2457880</td><td>0.51194</td><td>0.51194</td><td>40.00</td></tr><tr style=\"background:#93c293; text-align:left;\"><td>6148.2</td><td>2457880</td><td>0.50303</td><td>0.50303</td><td>42.50</td></tr><tr style=\"background:#8686ff; text-align:left;\"><td>6148.1</td><td>2457880</td><td>0.51848</td><td>0.51848</td><td>45.01</td></tr><tr style=\"background:#8686ff; text-align:left;\"><td>6148.2</td><td>2457880</td><td>0.51719</td><td>0.51719</td><td>45.01</td></tr><tr style=\"background:#8686ff; text-align:left;\"><td>6148.2</td><td>2457880</td><td>0.5118</td><td>0.5118</td><td>47.50</td></tr><tr style=\"background:#86bb86; text-align:left;\"><td>6148.1</td><td>2457880</td><td>0.50652</td><td>0.50652</td><td>50.00</td></tr><tr style=\"background:#6bac6b; text-align:left;\"><td>6148.2</td><td>2457880</td><td>0.50781</td><td>0.50781</td><td>62.49</td></tr></table>\n",
       "                </div></div>"
      ],
      "text/plain": [
       "<IPython.core.display.HTML object>"
      ]
     },
     "metadata": {},
     "output_type": "display_data"
    }
   ],
   "source": [
    "# Table code\n",
    "from IPython.display import HTML, display\n",
    "\n",
    "binNumber_Max = 38\n",
    "binSize = 3\n",
    "binList = [i*binSize for i in range(binNumber_Max+1)]\n",
    "### binList = [0, 10, 20, 30, 40, 50, ...]\n",
    "#print(binList)\n",
    "\n",
    "# A 19-step blue gradient:\n",
    "binColors1 = ['#f1f1ff', '#e4e4ff', '#d6d6ff', '#c9c9ff', '#bbbbff', '#aeaeff', '#a1a1ff', '#9393ff', '#8686ff', '#7878ff', '#6b6bff', '#5d5dff', '#5050ff', '#4343ff', '#3535ff', '#2828ff', '#1a1aff', '#0d0dff', '#0000ff']\n",
    "#print(binColors)\n",
    "\n",
    "# A 19-step green gradient:\n",
    "binColors2 = ['#f1f7f1', '#e4efe4', '#d6e6d6', '#c9e0c9', '#bbd9bb', '#aed1ae', '#a1caa1', '#93c293', '#86bb86', '#78b378', '#6bac6b', '#5da55d', '#509d50', '#439543', '#358e35', '#288628', '#1a7f1a', '#0d770d', '#007000']\n",
    "    \n",
    "# TODO: Alternate bins with blue/green\n",
    "binColors = []\n",
    "# \"Zip\" the color lists together into a list of alternating colors\n",
    "for i in range(len(binColors1)):\n",
    "    binColors.append(binColors1[i])\n",
    "    binColors.append(binColors2[i])\n",
    "    \n",
    "sortColumn = 4\n",
    "\n",
    "def makeTable(inFile):\n",
    "    with open(inFile) as data:\n",
    "        htmlRows = []\n",
    "        for line in data:\n",
    "            # If it's not a comment,\n",
    "            if not str(line[0]) == '#':\n",
    "                # it's data, so break the line into an array of values\n",
    "                values = line.split('\\t')\n",
    "                # Remove the linebreak from the last value\n",
    "                values[-1] = values[-1].strip('\\n')\n",
    "\n",
    "                # If it's a rising or falling edge, round it to 5 decimal places\n",
    "                values[2] = str(round(float(values[2]), 5))\n",
    "                values[3] = str(round(float(values[3]), 5))\n",
    "\n",
    "                # Remove the integer-value rising and falling edges\n",
    "                del values[6]\n",
    "                del values[5]\n",
    "\n",
    "                # This is the number we want sorted:\n",
    "                dataValue = float(values[sortColumn])\n",
    "\n",
    "                # Scan through the bins to find which one the relevant value is in\n",
    "                assignedBin = None\n",
    "                for binLower in binList:\n",
    "                    binUpper = binLower + binSize\n",
    "                    if dataValue >= binLower and dataValue < binUpper:\n",
    "                        assignedBin = binList.index(binLower)\n",
    "                        break\n",
    "\n",
    "                    # If none of those worked, add the line to the last bin:\n",
    "                    if assignedBin == None:\n",
    "                        assignedBin = binList.index(binList[-1])\n",
    "            \n",
    "                #newLine = '\\t'.join(values)\n",
    "                newLine = '<td>' + '</td><td>'.join(values) + '</td>'\n",
    "            \n",
    "                ##htmlRows.append( '<tr style=\"background:{0}; text-align:left; float:left; width:100%;\\\n",
    "                ##margin: -7px 0 -7px 0;\">{1}</tr>'.format(str(binColors[assignedBin+1]), newLine) )\n",
    "\n",
    "                htmlRows.append( '<tr style=\"background:{0}; text-align:left;\">{1}</tr>'\\\n",
    "                                .format(str(binColors[assignedBin+1]), newLine) )\n",
    "            else:\n",
    "                # it's a comment, so ignore it\n",
    "                pass\n",
    "          \n",
    "    return htmlRows\n",
    "\n",
    "\n",
    "cssStyle = \"\"\"<style type=\"text/css\">\n",
    "              #left {float:left; width:50%;}\n",
    "              #right {float:right; width:50%;}\n",
    "              .clearfix:after {content: \" \"; visibility: hidden; display: block; height: 0; clear: both;}\n",
    "              .datatable {font-family: monospace; margin: 0 auto; text-align:left; float:left;}\n",
    "              .headerrow {background:light grey; text-align:left;}\n",
    "              </style>\"\"\"\n",
    "\n",
    "header = \"\"\"<tr class=\"headerrow\">\n",
    "            <th>ID.Channel</th><th>Day</th><th>Rising Edge</th><th>Falling Edge</th><th>ToT</th></tr>\"\"\"\n",
    "\n",
    "unsortTable = makeTable('../Files/Data/6148.2017.0507.0-100.thresh')\n",
    "unsortHtml = header\n",
    "for row in unsortTable:\n",
    "    unsortHtml += row\n",
    "    \n",
    "sortTable = makeTable('OutputFiles/6148.2017.0507.0-100.sorted_01')\n",
    "sortHtml = header\n",
    "for row in sortTable:\n",
    "    sortHtml += row\n",
    "\n",
    "htmlStruct = \"\"\"<div id=\"container\" class=\"clearfix\">\n",
    "                <div id=\"left\" class=\"clearfix\">\n",
    "                <table class=\"datatable\">{0}</table>\n",
    "                </div>\n",
    "                <div id=\"right\" class=\"clearfix\">\n",
    "                <table class=\"datatable\">{1}</table>\n",
    "                </div></div>\"\"\".format(unsortHtml,sortHtml)\n",
    "\n",
    "htmlOut = cssStyle + htmlStruct\n",
    "\n",
    "display(HTML(htmlOut))"
   ]
  },
  {
   "cell_type": "code",
   "execution_count": null,
   "metadata": {},
   "outputs": [],
   "source": []
  }
 ],
 "metadata": {
  "kernelspec": {
   "display_name": "Python 3",
   "language": "python",
   "name": "python3"
  },
  "language_info": {
   "codemirror_mode": {
    "name": "ipython",
    "version": 3
   },
   "file_extension": ".py",
   "mimetype": "text/x-python",
   "name": "python",
   "nbconvert_exporter": "python",
   "pygments_lexer": "ipython3",
   "version": "3.6.4"
  }
 },
 "nbformat": 4,
 "nbformat_minor": 2
}
