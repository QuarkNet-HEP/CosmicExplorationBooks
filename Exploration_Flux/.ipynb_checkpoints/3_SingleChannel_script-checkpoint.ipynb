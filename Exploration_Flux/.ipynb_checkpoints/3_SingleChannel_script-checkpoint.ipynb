{
 "cells": [
  {
   "cell_type": "markdown",
   "metadata": {},
   "source": [
    "*Instructors:*\n",
    "*This Notebook uses the SingleChannel.pl script of the Cosmic Ray e-Lab analyses to provide material for the following learning goals:*\n",
    "\n",
    "* *Identifying and selecting relevant data from a larger dataset*\n",
    "* *Understanding the use of 'control' data in an experiment*\n",
    "* *Introductory principles of statistics*"
   ]
  },
  {
   "cell_type": "markdown",
   "metadata": {},
   "source": [
    "# SingleChannel"
   ]
  },
  {
   "cell_type": "markdown",
   "metadata": {},
   "source": [
    "## Motivation: Comparing muon absorption data to a control"
   ]
  },
  {
   "cell_type": "markdown",
   "metadata": {},
   "source": [
    "When cosmic ray muons pass through a material, there's some chance that the material will absorb it.  Can we quantify this effect?  Fig. 1 shows a simple experiment you can do with a cosmic ray muon detector (CRMD) to begin answering this question."
   ]
  },
  {
   "cell_type": "markdown",
   "metadata": {},
   "source": [
    "In this experiment, we place a layer of a dense material (we'll use lead as an example) between two detector panels stacked vertically.  Many of the cosmic ray muons that pass through the top panel also pass through the lead and reach the bottom panel, but many are blocked by the lead."
   ]
  },
  {
   "cell_type": "markdown",
   "metadata": {},
   "source": [
    "![A muon striking a neutrino detector](../Files/Images/MuonAbsorption_800x401.png)*Fig 1.  A layer of lead placed between two CRMD detector panels absorbs some fraction of cosmic ray muons that pass through.*"
   ]
  },
  {
   "cell_type": "markdown",
   "metadata": {},
   "source": [
    "By comparing the data from the bottom panel to the data from the top panel, we can calculate what fraction of incident muons are blocked by the lead.  If we want to be thorough, we can then change the thickness of the lead and perform the measurement again multiple times in order to determine the fraction of absorbed muons as a function of lead thickness -- but that's getting ahead of ourselves."
   ]
  },
  {
   "cell_type": "markdown",
   "metadata": {},
   "source": [
    "For now, what's important is to recognize the difference between the top panel and the bottom panel.  The bottom panel takes the data that we're most directly interested in: the muon count when the path is blocked by lead.  We can't interpret that data, however, unless we also measure the *unblocked* muon count using the top panel.  Otherwise, we don't know exactly how many are being stopped, only that there seem to be fewer of them."
   ]
  },
  {
   "cell_type": "markdown",
   "metadata": {},
   "source": [
    "In this case, the top detector panel acts as a **control**: a set of data taken *without* imposing the conditions of the experiment so that the experimental data can be compared to it."
   ]
  },
  {
   "cell_type": "markdown",
   "metadata": {},
   "source": [
    "This also implies that the data from the top panel and the data from the bottom panel are meaningfully distinct and that we can't treat them as part of one big set.  After all, we've specifically designed our experiment around the expectation that there will be a physical difference between the two:  We expect fewer muon counts in the panel that's shielded by lead than in the control panel.  When we analyze the data recorded by the DAQ, we'll have to identify and separate the data of the upper channel from the data of the lower channel so that we can handle them differently.  This is what the `SingleChannel` data transformation is designed to do."
   ]
  },
  {
   "cell_type": "markdown",
   "metadata": {},
   "source": [
    "## Using SingleChannel.pl"
   ]
  },
  {
   "cell_type": "markdown",
   "metadata": {},
   "source": [
    "To use the data transformation script `SingleChannel.pl`, we provide it with two file names and a channel number:\n",
    "\n",
    "`$ perl SingleChannel.pl <input file> <output file> <channel number>`\n",
    "\n",
    "where the items in angled brackets `<>` are parameters we have to specify.  In more detail, these are:\n",
    "\n",
    "* `input file`:  The name of a file to be used as input; we can specify only one for this script\n",
    "* `output file`: What we want to name the output file that the script will write its results to\n",
    "* `channel number`: Which DAQ channel (1-4) we're selecting for output"
   ]
  },
  {
   "cell_type": "markdown",
   "metadata": {},
   "source": [
    "We'll try this out on a specially-prepared threshold data file named `6148.2016.0109.0_1000.thresh`, which consists of the first 1,000 data lines of the real cosmic ray data file `6148.2016.0109.0.thresh`."
   ]
  },
  {
   "cell_type": "markdown",
   "metadata": {},
   "source": [
    "### 1) Investigate the input data"
   ]
  },
  {
   "cell_type": "markdown",
   "metadata": {},
   "source": [
    "To get a sense of what the data looks like before the `SingleChannel` data transformation, we'll first use the UNIX `wc` (word count) utility to count its lines:"
   ]
  },
  {
   "cell_type": "code",
   "execution_count": null,
   "metadata": {},
   "outputs": [],
   "source": [
    "!wc -l ../Files/Data/6148.2016.0109.0_1000.thresh"
   ]
  },
  {
   "cell_type": "markdown",
   "metadata": {},
   "source": [
    "(`wc` stands for \"word count\", and the `-l` flag means \"but count lines instead of words.\" The first number in the output, before the filename, is the number of lines, in this case 1003)"
   ]
  },
  {
   "cell_type": "markdown",
   "metadata": {},
   "source": [
    "We can see that that `6148.2016.0109.0_1000.thresh` has just over a thousand lines.  In fact, since we already know that each `.thresh` file begins with three commented lines as a header, we can infer that this file has exactly 1000 lines of data, as its name implies."
   ]
  },
  {
   "cell_type": "markdown",
   "metadata": {},
   "source": [
    "We'll use the UNIX utility `head` to see only the first 20 lines:"
   ]
  },
  {
   "cell_type": "code",
   "execution_count": null,
   "metadata": {},
   "outputs": [],
   "source": [
    "!head -20 ../Files/Data/6148.2016.0109.0_1000.thresh"
   ]
  },
  {
   "cell_type": "markdown",
   "metadata": {},
   "source": [
    "This certainly looks like standard threshold data."
   ]
  },
  {
   "cell_type": "markdown",
   "metadata": {},
   "source": [
    "### 2) Apply the data transformation"
   ]
  },
  {
   "cell_type": "markdown",
   "metadata": {},
   "source": [
    "Remember that the command-line call to `SingleChannel.pl` is of the form\n",
    "\n",
    "`$ perl SingleChannel.pl <input file> <output file> <channel number>`.\n",
    "\n",
    "In this case, we'll run the data transformation as"
   ]
  },
  {
   "cell_type": "code",
   "execution_count": null,
   "metadata": {},
   "outputs": [],
   "source": [
    "!perl ../Files/eLabScripts/SingleChannel.pl ../Files/Data/6148.2016.0109.0_1000.thresh \\\n",
    "OutputFiles/singleChannelOut_1 1"
   ]
  },
  {
   "cell_type": "markdown",
   "metadata": {},
   "source": [
    "Notice that we've named the output file `singleChannelOut_1` with the channel number as a suffix; this will make it easier to compare files from different channels later."
   ]
  },
  {
   "cell_type": "markdown",
   "metadata": {},
   "source": [
    "### 3) Investigate the output data"
   ]
  },
  {
   "cell_type": "markdown",
   "metadata": {},
   "source": [
    "This is what the first 25 lines of the resulting file `singleChannelOut_1` looks like:"
   ]
  },
  {
   "cell_type": "code",
   "execution_count": null,
   "metadata": {},
   "outputs": [],
   "source": [
    "!head -25 OutputFiles/singleChannelOut_1"
   ]
  },
  {
   "cell_type": "markdown",
   "metadata": {},
   "source": [
    "The first thing we notice is that `SingleChannel` has no header lines.  We've seen data transformation scripts that alter the header of the input file to better suit the output file format, but this script deletes it entirely.  Headers are an important source of information for other users to understand the meaning of a data file, so in this case we'll have to rely on memory and documentation to interpret the columns.  By comparison, though, it's evident that `SingleChannel` hasn't altered the column structure with respect to the input threshold file.\n",
    "\n",
    "(For a quick comparison, we can check the column structure of the original in the usual way:"
   ]
  },
  {
   "cell_type": "code",
   "execution_count": null,
   "metadata": {},
   "outputs": [],
   "source": [
    "!head -7 ../Files/Data/6148.2016.0109.0_1000.thresh"
   ]
  },
  {
   "cell_type": "markdown",
   "metadata": {},
   "source": [
    ")."
   ]
  },
  {
   "cell_type": "markdown",
   "metadata": {},
   "source": [
    "The second thing we notice is that column 1 contains only `6148.1` values - that is, only data from the first channel of the detector with DAQ ID #6148.  Given a name like `SingleChannel`, it should be clear that this is what the script does -- it filters the input data to select only data lines for a specific DAQ channel, discarding the rest."
   ]
  },
  {
   "cell_type": "markdown",
   "metadata": {},
   "source": [
    "## Exploration: comparing data among channels"
   ]
  },
  {
   "cell_type": "markdown",
   "metadata": {},
   "source": [
    "It turns out that `SingleChannel` has a little bit more power than we've used so far, though.  It can actually handle multiple single channel data transformations at a time, as odd as that might sound.  The script allows us to specify additional channels to output into additional output files:\n",
    "\n",
    "`$ perl SingleChannel.pl <Input File> \"<Output File 1> <Output File 2> <Output File 3> <Output File 4>\" \"1 2 3 4\"`\n",
    "\n",
    "Note that for multiple channels and outputs, we have to add quotes `\"` to make sure that `SingleChannel` knows which arguments are the output filenames and which ones are the channel numbers.  As long as we have the same number of output files as selected channels, we can specify as many channels as we like at a time.\n",
    "\n",
    "We'll use this form now to get single-channel outputs of the remaining three channels from `6148.2016.0109.0_1000.thresh`."
   ]
  },
  {
   "cell_type": "code",
   "execution_count": null,
   "metadata": {},
   "outputs": [],
   "source": [
    "!perl ../Files/eLabScripts/SingleChannel.pl ../Files/Data/6148.2016.0109.0_1000.thresh \\\n",
    "\"OutputFiles/singleChannelOut_2 OutputFiles/singleChannelOut_3 OutputFiles/singleChannelOut_4\" \"2 3 4\""
   ]
  },
  {
   "cell_type": "markdown",
   "metadata": {},
   "source": [
    "As advertised, we can see that this has created the three additional output files `singleChannelOut_2`, `singleChannelOut_3`, and `singleChannelOut_4` by using the UNIX `ls` command to check the output file directory:"
   ]
  },
  {
   "cell_type": "code",
   "execution_count": null,
   "metadata": {},
   "outputs": [],
   "source": [
    "!ls -1 OutputFiles/"
   ]
  },
  {
   "cell_type": "markdown",
   "metadata": {},
   "source": [
    "Out of curiosity, let's line-count them using the UNIX `wc` utility:"
   ]
  },
  {
   "cell_type": "code",
   "execution_count": null,
   "metadata": {},
   "outputs": [],
   "source": [
    "!wc -l OutputFiles/singleChannelOut_1"
   ]
  },
  {
   "cell_type": "code",
   "execution_count": null,
   "metadata": {},
   "outputs": [],
   "source": [
    "!wc -l OutputFiles/singleChannelOut_2"
   ]
  },
  {
   "cell_type": "code",
   "execution_count": null,
   "metadata": {},
   "outputs": [],
   "source": [
    "!wc -l OutputFiles/singleChannelOut_3"
   ]
  },
  {
   "cell_type": "code",
   "execution_count": null,
   "metadata": {},
   "outputs": [],
   "source": [
    "!wc -l OutputFiles/singleChannelOut_4"
   ]
  },
  {
   "cell_type": "markdown",
   "metadata": {},
   "source": [
    "Recall that the original input threshold file `6148.2016.0109.0.test.thresh` had 1003 lines -- 3 header lines and 1000 data lines -- and that `SingleChannel` output files have no header lines."
   ]
  },
  {
   "cell_type": "markdown",
   "metadata": {},
   "source": [
    "**Exercise 1**\n",
    "\n",
    "Add the line counts of the four output files above.  Do you get what you expect?  If not, what might be responsible for the difference?"
   ]
  },
  {
   "cell_type": "code",
   "execution_count": 1,
   "metadata": {
    "code_folding": [
     0
    ]
   },
   "outputs": [
    {
     "data": {
      "application/vnd.jupyter.widget-view+json": {
       "model_id": "73b2d8feb68b42d094aa8b01e8f5922d",
       "version_major": 2,
       "version_minor": 0
      },
      "text/html": [
       "<p>Failed to display Jupyter Widget of type <code>Textarea</code>.</p>\n",
       "<p>\n",
       "  If you're reading this message in the Jupyter Notebook or JupyterLab Notebook, it may mean\n",
       "  that the widgets JavaScript is still loading. If this message persists, it\n",
       "  likely means that the widgets JavaScript library is either not installed or\n",
       "  not enabled. See the <a href=\"https://ipywidgets.readthedocs.io/en/stable/user_install.html\">Jupyter\n",
       "  Widgets Documentation</a> for setup instructions.\n",
       "</p>\n",
       "<p>\n",
       "  If you're reading this message in another frontend (for example, a static\n",
       "  rendering on GitHub or <a href=\"https://nbviewer.jupyter.org/\">NBViewer</a>),\n",
       "  it may mean that your frontend doesn't currently support widgets.\n",
       "</p>\n"
      ],
      "text/plain": [
       "Textarea(value='', description='Answer:', layout=Layout(height='100px', width='100%'))"
      ]
     },
     "metadata": {},
     "output_type": "display_data"
    }
   ],
   "source": [
    "# Textarea widget \n",
    "import ipywidgets as widgets\n",
    "widgets.Textarea(\n",
    "    value='',\n",
    "    description='Answer:',\n",
    "    disabled=False,\n",
    "    layout=widgets.Layout(width='100%', height='100px')\n",
    ")"
   ]
  },
  {
   "cell_type": "markdown",
   "metadata": {},
   "source": [
    "**Exercise 2**\n",
    "\n",
    "In a well-functioning cosmic ray muon detector using 4 channels, what percentage of the total number of counts do you expect each channel to record?  Using the example above of a file with 1000 counts, how many counts would you expect each channel to have?  If the actual results differ from what you would have expected, try to explain why."
   ]
  },
  {
   "cell_type": "code",
   "execution_count": 2,
   "metadata": {
    "code_folding": [
     0
    ]
   },
   "outputs": [
    {
     "data": {
      "application/vnd.jupyter.widget-view+json": {
       "model_id": "b3e7401992094952ac9bcfee74983d29",
       "version_major": 2,
       "version_minor": 0
      },
      "text/html": [
       "<p>Failed to display Jupyter Widget of type <code>Textarea</code>.</p>\n",
       "<p>\n",
       "  If you're reading this message in the Jupyter Notebook or JupyterLab Notebook, it may mean\n",
       "  that the widgets JavaScript is still loading. If this message persists, it\n",
       "  likely means that the widgets JavaScript library is either not installed or\n",
       "  not enabled. See the <a href=\"https://ipywidgets.readthedocs.io/en/stable/user_install.html\">Jupyter\n",
       "  Widgets Documentation</a> for setup instructions.\n",
       "</p>\n",
       "<p>\n",
       "  If you're reading this message in another frontend (for example, a static\n",
       "  rendering on GitHub or <a href=\"https://nbviewer.jupyter.org/\">NBViewer</a>),\n",
       "  it may mean that your frontend doesn't currently support widgets.\n",
       "</p>\n"
      ],
      "text/plain": [
       "Textarea(value='', description='Answer:', layout=Layout(height='100px', width='100%'))"
      ]
     },
     "metadata": {},
     "output_type": "display_data"
    }
   ],
   "source": [
    "# Textarea widget \n",
    "import ipywidgets as widgets\n",
    "widgets.Textarea(\n",
    "    value='',\n",
    "    description='Answer:',\n",
    "    disabled=False,\n",
    "    layout=widgets.Layout(width='100%', height='100px')\n",
    ")"
   ]
  },
  {
   "cell_type": "markdown",
   "metadata": {},
   "source": [
    "**Exercise 3**\n",
    "\n",
    "Find a file with a much larger number of data lines than `6148.2016.0109.0_1000.thresh` has in the `../Files/Data/` directory.  Repeat the above process of using `SingleChannel` to separate the file into different output files for each individual channel, naming the outputs `OutputFiles/singleChannelOut_Big1`, `OutputFiles/singleChannelOut_Big2`, etc."
   ]
  },
  {
   "cell_type": "markdown",
   "metadata": {},
   "source": [
    "_Tip:_ Use the UNIX `ls -sh1` command (`ls` for \"list\", with options `-s` for \"show file **s**izes,\" `-h` for \"**h**uman-readable file sizes\", and `-1` for \"**one** file per line\") to see the files in `../Files/Data/` and their sizes.  Bigger files should have more lines, which you can check with the `wc -l` command."
   ]
  },
  {
   "cell_type": "code",
   "execution_count": null,
   "metadata": {},
   "outputs": [],
   "source": [
    "!ls -sh1 ../Files/Data/"
   ]
  },
  {
   "cell_type": "markdown",
   "metadata": {},
   "source": [
    "Calculate what percentage of the total number of counts each output file has.  How do these compare to your expectations?  How do they compare to how the 1000 counts of `6148.2016.0109.0_1000.thresh` were divided among different channels?"
   ]
  },
  {
   "cell_type": "code",
   "execution_count": 3,
   "metadata": {
    "code_folding": [
     0
    ]
   },
   "outputs": [
    {
     "data": {
      "application/vnd.jupyter.widget-view+json": {
       "model_id": "b4f1db96f491467abfb954441ace9131",
       "version_major": 2,
       "version_minor": 0
      },
      "text/html": [
       "<p>Failed to display Jupyter Widget of type <code>Textarea</code>.</p>\n",
       "<p>\n",
       "  If you're reading this message in the Jupyter Notebook or JupyterLab Notebook, it may mean\n",
       "  that the widgets JavaScript is still loading. If this message persists, it\n",
       "  likely means that the widgets JavaScript library is either not installed or\n",
       "  not enabled. See the <a href=\"https://ipywidgets.readthedocs.io/en/stable/user_install.html\">Jupyter\n",
       "  Widgets Documentation</a> for setup instructions.\n",
       "</p>\n",
       "<p>\n",
       "  If you're reading this message in another frontend (for example, a static\n",
       "  rendering on GitHub or <a href=\"https://nbviewer.jupyter.org/\">NBViewer</a>),\n",
       "  it may mean that your frontend doesn't currently support widgets.\n",
       "</p>\n"
      ],
      "text/plain": [
       "Textarea(value='', description='Answer:', layout=Layout(height='100px', width='100%'))"
      ]
     },
     "metadata": {},
     "output_type": "display_data"
    }
   ],
   "source": [
    "# Textarea widget \n",
    "import ipywidgets as widgets\n",
    "widgets.Textarea(\n",
    "    value='',\n",
    "    description='Answer:',\n",
    "    disabled=False,\n",
    "    layout=widgets.Layout(width='100%', height='100px')\n",
    ")"
   ]
  },
  {
   "cell_type": "markdown",
   "metadata": {},
   "source": [
    "**A Word of Warning**\n",
    "\n",
    "If you've been playing around with word counts for a bit, you may have noticed that `SingleChannel` has a quirk: if you specify an output file that already exists, `SingleChannel` will *add to* the existing file rather than replacing it with the new output.  Most of the other e-Lab data transformations will replace the existing file, so this may represent a bug in this particular script.\n",
    "\n",
    "*Be aware of this when running similar commands multiple times!*"
   ]
  },
  {
   "cell_type": "markdown",
   "metadata": {},
   "source": [
    "**Further Exploration**\n",
    "\n",
    "1) What happens with a command like\n",
    "\n",
    "`$ perl ./perl/SingleChannel.pl test_data/6148.2016.0109.0.test.thresh \"test_data/singleChannelOut test_data/singleChannelOut test_data/singleChannelOut test_data/singleChannelOut\" \"1 2 3 4\"`\n",
    "\n",
    "where we apply `SingleChannel.pl` to all four channels but provide the same filename?"
   ]
  },
  {
   "cell_type": "markdown",
   "metadata": {},
   "source": [
    "2) What does `SingleChannel.pl` do for an input file with multiple detectors?"
   ]
  }
 ],
 "metadata": {
  "kernelspec": {
   "display_name": "Python 3",
   "language": "python",
   "name": "python3"
  },
  "language_info": {
   "codemirror_mode": {
    "name": "ipython",
    "version": 3
   },
   "file_extension": ".py",
   "mimetype": "text/x-python",
   "name": "python",
   "nbconvert_exporter": "python",
   "pygments_lexer": "ipython3",
   "version": "3.6.4"
  }
 },
 "nbformat": 4,
 "nbformat_minor": 2
}
